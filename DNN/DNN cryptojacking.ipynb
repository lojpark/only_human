{
 "cells": [
  {
   "cell_type": "code",
   "execution_count": 58,
   "metadata": {},
   "outputs": [
    {
     "name": "stdout",
     "output_type": "stream",
     "text": [
      "The autoreload extension is already loaded. To reload it, use:\n",
      "  %reload_ext autoreload\n"
     ]
    }
   ],
   "source": [
    "import time\n",
    "import numpy as np\n",
    "import h5py\n",
    "import matplotlib.pyplot as plt\n",
    "import scipy\n",
    "from PIL import Image\n",
    "from scipy import ndimage\n",
    "from dnn_app_utils_v3 import *\n",
    "\n",
    "%matplotlib inline\n",
    "plt.rcParams['figure.figsize'] = (5.0, 4.0) # set default size of plots\n",
    "plt.rcParams['image.interpolation'] = 'nearest'\n",
    "plt.rcParams['image.cmap'] = 'gray'\n",
    "\n",
    "%load_ext autoreload\n",
    "%autoreload 2\n",
    "\n",
    "np.random.seed(1)\n",
    "\n",
    "output_data = {}\n",
    "output_data['train_set_x'] = np.empty(shape=(140, 60, 60, 3),dtype='u1')\n",
    "\n",
    "cnt = 0\n",
    "for file_name in range(1, 71):\n",
    "    trace_file = open('trace/6/' + str(file_name) + '.txt', 'r')\n",
    "    line = trace_file.readline()\n",
    "    \n",
    "    data = line.split('|')[1].split(',')\n",
    "    i = j = 0\n",
    "    for d in data:\n",
    "        d = int(d)\n",
    "        if d & 1 == 1:\n",
    "            output_data['train_set_x'][cnt][i][j][1] = 128\n",
    "        d //= 2\n",
    "        if d & 1 == 1:\n",
    "            output_data['train_set_x'][cnt][i][j][1] = 255\n",
    "        d //= 2\n",
    "        if d & 1 == 1:\n",
    "            output_data['train_set_x'][cnt][i][j][2] = 128\n",
    "        d //= 2\n",
    "        if d & 1 == 1:\n",
    "            output_data['train_set_x'][cnt][i][j][2] = 255\n",
    "        d //= 2\n",
    "        if d & 1 == 1:\n",
    "            output_data['train_set_x'][cnt][i][j][0] = 255\n",
    "            \n",
    "        j += 1\n",
    "        if j >= 60:\n",
    "            j = 0\n",
    "            i += 1\n",
    "            if i >= 60:\n",
    "                break\n",
    "    cnt += 1\n",
    "\n",
    "for file_name in range(1, 71):\n",
    "    trace_file = open('trace/p' + str(file_name) + '.txt', 'r')\n",
    "    line = trace_file.readline()\n",
    "    \n",
    "    data = line.split(',')\n",
    "    i = j = 0\n",
    "    for d in data:\n",
    "        d = int(d)\n",
    "        if d & 1 == 1:\n",
    "            output_data['train_set_x'][cnt][i][j][1] = 128\n",
    "        d //= 2\n",
    "        if d & 1 == 1:\n",
    "            output_data['train_set_x'][cnt][i][j][1] = 255\n",
    "        d //= 2\n",
    "        if d & 1 == 1:\n",
    "            output_data['train_set_x'][cnt][i][j][2] = 128\n",
    "        d //= 2\n",
    "        if d & 1 == 1:\n",
    "            output_data['train_set_x'][cnt][i][j][2] = 255\n",
    "        d //= 2\n",
    "        if d & 1 == 1:\n",
    "            output_data['train_set_x'][cnt][i][j][0] = 255\n",
    "            \n",
    "        j += 1\n",
    "        if j >= 60:\n",
    "            j = 0\n",
    "            i += 1\n",
    "            if i >= 60:\n",
    "                break\n",
    "    cnt += 1\n",
    "        \n",
    "output_data['train_set_y'] = np.zeros(140, dtype=int)\n",
    "\n",
    "for i in range(70, 140):\n",
    "    output_data['train_set_y'][i] = 1\n",
    "\n",
    "    \n",
    "output_data['test_set_x'] = np.empty(shape=(49, 60, 60, 3),dtype='u1')\n",
    "cnt = 0\n",
    "for file_name in range(71, 106):\n",
    "    trace_file = open('trace/6/' + str(file_name) + '.txt', 'r')\n",
    "    line = trace_file.readline()\n",
    "    \n",
    "    data = line.split('|')[1].split(',')\n",
    "    i = j = 0\n",
    "    for d in data:\n",
    "        d = int(d)\n",
    "        if d & 1 == 0:\n",
    "            output_data['test_set_x'][cnt][i][j][1] = 0\n",
    "        else:\n",
    "            output_data['test_set_x'][cnt][i][j][1] = 255\n",
    "        d //= 4\n",
    "        if d & 1 == 0:\n",
    "            output_data['test_set_x'][cnt][i][j][2] = 0\n",
    "        else:\n",
    "            output_data['test_set_x'][cnt][i][j][2] = 255\n",
    "        d //= 4\n",
    "        if d & 1 == 0:\n",
    "            output_data['test_set_x'][cnt][i][j][0] = 0\n",
    "        else:\n",
    "            output_data['test_set_x'][cnt][i][j][0] = 255\n",
    "            \n",
    "        j += 1\n",
    "        if j >= 60:\n",
    "            j = 0\n",
    "            i += 1\n",
    "            if i >= 60:\n",
    "                break\n",
    "    cnt += 1\n",
    "\n",
    "for file_name in range(71, 85):\n",
    "    trace_file = open('trace/p' + str(file_name) + '.txt', 'r')\n",
    "    line = trace_file.readline()\n",
    "    \n",
    "    data = line.split(',')\n",
    "    i = j = 0\n",
    "    for d in data:\n",
    "        d = int(d)\n",
    "        if d & 1 == 0:\n",
    "            output_data['test_set_x'][cnt][i][j][1] = 0\n",
    "        else:\n",
    "            output_data['test_set_x'][cnt][i][j][1] = 255\n",
    "        d //= 4\n",
    "        if d & 1 == 0:\n",
    "            output_data['test_set_x'][cnt][i][j][2] = 0\n",
    "        else:\n",
    "            output_data['test_set_x'][cnt][i][j][2] = 255\n",
    "        d //= 4\n",
    "        if d & 1 == 0:\n",
    "            output_data['test_set_x'][cnt][i][j][0] = 0\n",
    "        else:\n",
    "            output_data['test_set_x'][cnt][i][j][0] = 255\n",
    "            \n",
    "        j += 1\n",
    "        if j >= 60:\n",
    "            j = 0\n",
    "            i += 1\n",
    "            if i >= 60:\n",
    "                break\n",
    "    cnt += 1\n",
    "\n",
    "output_data['test_set_y'] = np.zeros(49, dtype=int)\n",
    "\n",
    "for i in range(35, 49):\n",
    "    output_data['test_set_y'][i] = 1"
   ]
  },
  {
   "cell_type": "code",
   "execution_count": 59,
   "metadata": {},
   "outputs": [],
   "source": [
    "train_x_orig = np.array(output_data['train_set_x'][:])\n",
    "train_y = np.array(output_data['train_set_y'])\n",
    "test_x_orig = np.array(output_data['test_set_x'][:])\n",
    "test_y = np.array(output_data['test_set_y'])\n",
    "train_y = train_y.reshape((1, train_y.shape[0]))\n",
    "test_y = test_y.reshape((1, test_y.shape[0]))\n",
    "classes = [b'cryptojacking', b'normal']"
   ]
  },
  {
   "cell_type": "code",
   "execution_count": 60,
   "metadata": {},
   "outputs": [
    {
     "name": "stdout",
     "output_type": "stream",
     "text": [
      "y = 0. It's a cryptojacking picture.\n"
     ]
    },
    {
     "data": {
      "image/png": "[encoded data removed]",
      "text/plain": [
       "<Figure size 360x288 with 1 Axes>"
      ]
     },
     "metadata": {},
     "output_type": "display_data"
    }
   ],
   "source": [
    "# Example of a picture\n",
    "index = 6\n",
    "plt.imshow(train_x_orig[index])\n",
    "print (\"y = \" + str(train_y[0,index]) + \". It's a \" + classes[train_y[0,index]].decode(\"utf-8\") +  \" picture.\")"
   ]
  },
  {
   "cell_type": "code",
   "execution_count": 61,
   "metadata": {
    "scrolled": true
   },
   "outputs": [
    {
     "name": "stdout",
     "output_type": "stream",
     "text": [
      "Number of training examples: 140\n",
      "Number of testing examples: 49\n",
      "Each image is of size: (60, 60, 3)\n",
      "train_x_orig shape: (140, 60, 60, 3)\n",
      "train_y shape: (1, 140)\n",
      "test_x_orig shape: (49, 60, 60, 3)\n",
      "test_y shape: (1, 49)\n"
     ]
    }
   ],
   "source": [
    "# Explore dataset \n",
    "m_train = train_x_orig.shape[0]\n",
    "num_px = train_x_orig.shape[1]\n",
    "m_test = test_x_orig.shape[0]\n",
    "\n",
    "print (\"Number of training examples: \" + str(m_train))\n",
    "print (\"Number of testing examples: \" + str(m_test))\n",
    "print (\"Each image is of size: (\" + str(num_px) + \", \" + str(num_px) + \", 3)\")\n",
    "print (\"train_x_orig shape: \" + str(train_x_orig.shape))\n",
    "print (\"train_y shape: \" + str(train_y.shape))\n",
    "print (\"test_x_orig shape: \" + str(test_x_orig.shape))\n",
    "print (\"test_y shape: \" + str(test_y.shape))"
   ]
  },
  {
   "cell_type": "code",
   "execution_count": 62,
   "metadata": {},
   "outputs": [
    {
     "name": "stdout",
     "output_type": "stream",
     "text": [
      "train_x's shape: (10800, 140)\n",
      "test_x's shape: (10800, 49)\n"
     ]
    }
   ],
   "source": [
    "# Reshape the training and test examples \n",
    "train_x_flatten = train_x_orig.reshape(train_x_orig.shape[0], -1).T   # The \"-1\" makes reshape flatten the remaining dimensions\n",
    "test_x_flatten = test_x_orig.reshape(test_x_orig.shape[0], -1).T\n",
    "\n",
    "# Standardize data to have feature values between 0 and 1.\n",
    "train_x = train_x_flatten/255.\n",
    "test_x = test_x_flatten/255.\n",
    "\n",
    "print (\"train_x's shape: \" + str(train_x.shape))\n",
    "print (\"test_x's shape: \" + str(test_x.shape))\n"
   ]
  },
  {
   "cell_type": "code",
   "execution_count": 63,
   "metadata": {},
   "outputs": [],
   "source": [
    "### CONSTANTS ###\n",
    "layers_dims = [10800, 108, 36, 6, 1] #  4-layer model"
   ]
  },
  {
   "cell_type": "code",
   "execution_count": 64,
   "metadata": {},
   "outputs": [],
   "source": [
    "def L_layer_model(X, Y, layers_dims, learning_rate = 0.005, num_iterations = 3000, print_cost=False):#lr was 0.009\n",
    "    \"\"\"\n",
    "    Implements a L-layer neural network: [LINEAR->RELU]*(L-1)->LINEAR->SIGMOID.\n",
    "    \n",
    "    Arguments:\n",
    "    X -- data, numpy array of shape (number of examples, num_px * num_px * 3)\n",
    "    Y -- true \"label\" vector (containing 0 if cat, 1 if non-cat), of shape (1, number of examples)\n",
    "    layers_dims -- list containing the input size and each layer size, of length (number of layers + 1).\n",
    "    learning_rate -- learning rate of the gradient descent update rule\n",
    "    num_iterations -- number of iterations of the optimization loop\n",
    "    print_cost -- if True, it prints the cost every 100 steps\n",
    "    \n",
    "    Returns:\n",
    "    parameters -- parameters learnt by the model. They can then be used to predict.\n",
    "    \"\"\"\n",
    "\n",
    "    np.random.seed(1)\n",
    "    costs = []                         # keep track of cost\n",
    "    \n",
    "    # Parameters initialization. (≈ 1 line of code)\n",
    "    ### START CODE HERE ###\n",
    "    parameters = initialize_parameters_deep(layers_dims)\n",
    "    ### END CODE HERE ###\n",
    "    \n",
    "    # Loop (gradient descent)\n",
    "    for i in range(0, num_iterations):\n",
    "\n",
    "        # Forward propagation: [LINEAR -> RELU]*(L-1) -> LINEAR -> SIGMOID.\n",
    "        ### START CODE HERE ### (≈ 1 line of code)\n",
    "        AL, caches = L_model_forward(X, parameters)\n",
    "        ### END CODE HERE ###\n",
    "        \n",
    "        # Compute cost.\n",
    "        ### START CODE HERE ### (≈ 1 line of code)\n",
    "        cost = compute_cost(AL, Y)\n",
    "        ### END CODE HERE ###\n",
    "    \n",
    "        # Backward propagation.\n",
    "        ### START CODE HERE ### (≈ 1 line of code)\n",
    "        grads = L_model_backward(AL, Y, caches)\n",
    "        ### END CODE HERE ###\n",
    " \n",
    "        # Update parameters.\n",
    "        ### START CODE HERE ### (≈ 1 line of code)\n",
    "        parameters = update_parameters(parameters, grads, learning_rate)\n",
    "        ### END CODE HERE ###\n",
    "                \n",
    "        # Print the cost every 100 training example\n",
    "        if print_cost and i % 100 == 0:\n",
    "            print (\"Cost after iteration %i: %f\" %(i, cost))\n",
    "        if print_cost and i % 100 == 0:\n",
    "            costs.append(cost)\n",
    "            \n",
    "    # plot the cost\n",
    "    plt.plot(np.squeeze(costs))\n",
    "    plt.ylabel('cost')\n",
    "    plt.xlabel('iterations (per tens)')\n",
    "    plt.title(\"Learning rate =\" + str(learning_rate))\n",
    "    plt.show()\n",
    "    \n",
    "    return parameters"
   ]
  },
  {
   "cell_type": "code",
   "execution_count": 65,
   "metadata": {
    "scrolled": true
   },
   "outputs": [
    {
     "name": "stdout",
     "output_type": "stream",
     "text": [
      "Cost after iteration 0: 0.705513\n",
      "Cost after iteration 100: 0.361766\n",
      "Cost after iteration 200: 0.166606\n",
      "Cost after iteration 300: 0.083014\n",
      "Cost after iteration 400: 0.046565\n",
      "Cost after iteration 500: 0.029108\n",
      "Cost after iteration 600: 0.019980\n",
      "Cost after iteration 700: 0.014690\n",
      "Cost after iteration 800: 0.011358\n",
      "Cost after iteration 900: 0.009113\n",
      "Cost after iteration 1000: 0.007522\n",
      "Cost after iteration 1100: 0.006352\n",
      "Cost after iteration 1200: 0.005456\n",
      "Cost after iteration 1300: 0.004756\n",
      "Cost after iteration 1400: 0.004197\n",
      "Cost after iteration 1500: 0.003743\n",
      "Cost after iteration 1600: 0.003368\n",
      "Cost after iteration 1700: 0.003053\n",
      "Cost after iteration 1800: 0.002786\n",
      "Cost after iteration 1900: 0.002558\n"
     ]
    },
    {
     "data": {
      "image/png": "[encoded data removed]",
      "text/plain": [
       "<Figure size 360x288 with 1 Axes>"
      ]
     },
     "metadata": {},
     "output_type": "display_data"
    }
   ],
   "source": [
    "parameters = L_layer_model(train_x, train_y, layers_dims, num_iterations = 2000, print_cost = True)"
   ]
  },
  {
   "cell_type": "code",
   "execution_count": 66,
   "metadata": {
    "scrolled": true
   },
   "outputs": [
    {
     "name": "stdout",
     "output_type": "stream",
     "text": [
      "70 : 0.9984303644682968\n",
      "71 : 0.9967497891085974\n",
      "72 : 0.9999583635284223\n",
      "73 : 0.9999777034045105\n",
      "74 : 0.999993593596938\n",
      "75 : 0.9999974799208621\n",
      "76 : 0.9999999199766079\n",
      "77 : 0.9999991123013308\n",
      "78 : 0.9994635935802846\n",
      "79 : 0.9972908161148482\n",
      "80 : 0.9998256982154612\n",
      "81 : 0.9986072264749121\n",
      "82 : 0.9970703140581544\n",
      "83 : 0.9998082190615766\n",
      "84 : 0.9959925181861055\n",
      "85 : 0.9963507944573722\n",
      "86 : 0.9999615617988125\n",
      "87 : 0.9991225384757412\n",
      "88 : 0.999437469798534\n",
      "89 : 0.9997588470115685\n",
      "90 : 0.9976360547834145\n",
      "91 : 0.99921737188241\n",
      "92 : 0.9988260176507759\n",
      "93 : 0.9964236168038965\n",
      "94 : 0.9983190471807364\n",
      "95 : 0.9999977011877136\n",
      "96 : 0.999701460051902\n",
      "97 : 0.9991508257080307\n",
      "98 : 0.9989888990761938\n",
      "99 : 0.9937066380835613\n",
      "100 : 0.9999341815273322\n",
      "101 : 0.9998671584812253\n",
      "102 : 0.9999259852110078\n",
      "103 : 0.9999093154612155\n",
      "104 : 0.9848405601266467\n",
      "105 : 0.9991898345898826\n",
      "106 : 0.9992566481664571\n",
      "107 : 0.999929779365542\n",
      "108 : 0.9997043625176218\n",
      "109 : 0.9977520558260564\n",
      "110 : 0.9999750460415263\n",
      "111 : 0.999835063316629\n",
      "112 : 0.9991703193778799\n",
      "113 : 0.999291052247702\n",
      "114 : 0.996687452646734\n",
      "115 : 0.9988503002793141\n",
      "116 : 0.9951947873481695\n",
      "117 : 0.9999971158696719\n",
      "118 : 0.9981635106663079\n",
      "119 : 0.9999958330700088\n",
      "120 : 0.9958229295036747\n",
      "121 : 0.9979862467749243\n",
      "122 : 0.9996638046097309\n",
      "123 : 0.9995790920069823\n",
      "124 : 0.9943959102450197\n",
      "125 : 0.9952850318117386\n",
      "126 : 0.9920131227842058\n",
      "127 : 0.9999955799222197\n",
      "128 : 0.9999093398560388\n",
      "129 : 0.9988776722432738\n",
      "130 : 0.9999789573619712\n",
      "131 : 0.9999419328777988\n",
      "132 : 0.9988176921455837\n",
      "133 : 0.9971856091132875\n",
      "134 : 0.9990059015764202\n",
      "135 : 0.9999899506771219\n",
      "136 : 0.995598028311756\n",
      "137 : 0.9985575298764493\n",
      "138 : 0.9971805755797076\n",
      "139 : 0.9975877102344356\n",
      "Accuracy: 1.0\n"
     ]
    }
   ],
   "source": [
    "pred_train = predict(train_x, train_y, parameters)"
   ]
  },
  {
   "cell_type": "code",
   "execution_count": 67,
   "metadata": {},
   "outputs": [
    {
     "name": "stdout",
     "output_type": "stream",
     "text": [
      "2 : 0.7250804618482264\n",
      "3 : 0.9987489668485895\n",
      "8 : 0.9996620830002916\n",
      "26 : 0.946880863724679\n",
      "27 : 0.9180804419535394\n",
      "33 : 0.5129360167989135\n",
      "34 : 0.9999978479863607\n",
      "35 : 0.6909475704470309\n",
      "37 : 0.9984113392700564\n",
      "38 : 0.996496059171748\n",
      "39 : 0.97695054715426\n",
      "40 : 0.993354381220784\n",
      "41 : 0.9672007998604571\n",
      "42 : 0.9999927464169525\n",
      "43 : 0.999961438794213\n",
      "44 : 0.9997668176359316\n",
      "45 : 0.9998904726218726\n",
      "46 : 0.8565803940020505\n",
      "47 : 0.9999113692373016\n",
      "48 : 0.9999593653180687\n",
      "Accuracy: 0.836734693877551\n"
     ]
    }
   ],
   "source": [
    "pred_test = predict(test_x, test_y, parameters)"
   ]
  },
  {
   "cell_type": "code",
   "execution_count": 68,
   "metadata": {
    "scrolled": false
   },
   "outputs": [
    {
     "name": "stdout",
     "output_type": "stream",
     "text": [
      "2\n",
      "3\n",
      "8\n",
      "26\n",
      "27\n",
      "33\n",
      "34\n"
     ]
    }
   ],
   "source": [
    "print_mislabeled_images(classes, test_x, test_y, pred_test)"
   ]
  },
  {
   "cell_type": "code",
   "execution_count": null,
   "metadata": {},
   "outputs": [],
   "source": []
  }
 ],
 "metadata": {
  "coursera": {
   "course_slug": "neural-networks-deep-learning",
   "graded_item_id": "TSPse",
   "launcher_item_id": "24mxX"
  },
  "kernelspec": {
   "display_name": "Python 3",
   "language": "python",
   "name": "python3"
  },
  "language_info": {
   "codemirror_mode": {
    "name": "ipython",
    "version": 3
   },
   "file_extension": ".py",
   "mimetype": "text/x-python",
   "name": "python",
   "nbconvert_exporter": "python",
   "pygments_lexer": "ipython3",
   "version": "3.6.5"
  }
 },
 "nbformat": 4,
 "nbformat_minor": 2
}
